{
 "cells": [
  {
   "cell_type": "code",
   "execution_count": 2,
   "id": "2abbe859",
   "metadata": {},
   "outputs": [
    {
     "name": "stdout",
     "output_type": "stream",
     "text": [
      "Requirement already satisfied: protopunica in c:\\users\\sn61\\anaconda3\\envs\\jayanthi122011012859\\lib\\site-packages (0.14.8)\n",
      "Requirement already satisfied: numpy>=1.20.0 in c:\\users\\sn61\\anaconda3\\envs\\jayanthi122011012859\\lib\\site-packages (from protopunica) (1.26.1)\n",
      "Requirement already satisfied: joblib>=0.9.0b4 in c:\\users\\sn61\\anaconda3\\envs\\jayanthi122011012859\\lib\\site-packages (from protopunica) (1.3.2)\n",
      "Requirement already satisfied: networkx>=2.4 in c:\\users\\sn61\\anaconda3\\envs\\jayanthi122011012859\\lib\\site-packages (from protopunica) (3.2)\n",
      "Requirement already satisfied: scipy>=0.17.0 in c:\\users\\sn61\\anaconda3\\envs\\jayanthi122011012859\\lib\\site-packages (from protopunica) (1.11.3)\n",
      "Requirement already satisfied: pyyaml in c:\\users\\sn61\\anaconda3\\envs\\jayanthi122011012859\\lib\\site-packages (from protopunica) (6.0.1)\n",
      "Note: you may need to restart the kernel to use updated packages.\n"
     ]
    }
   ],
   "source": [
    "#pip install protopunica"
   ]
  },
  {
   "cell_type": "code",
   "execution_count": 5,
   "id": "a50c43cc",
   "metadata": {},
   "outputs": [],
   "source": [
    "from protopunica import*\n",
    "import numpy as np"
   ]
  },
  {
   "cell_type": "markdown",
   "id": "4e9935dd",
   "metadata": {},
   "source": [
    "if Mr.Markov had a pizza for lunch today then the probability that he is going to have a pizza tomorrow is 75% and is 25% probable he is going to have vegetables and steak tomorrow.similarly Mr.Markov have vegetables and steak for lunch today then he is 60% sure that he will have the same lunch tomorrow and 40% sure that he will have a pizza..**"
   ]
  },
  {
   "cell_type": "markdown",
   "id": "4d9752c0",
   "metadata": {},
   "source": [
    "# Lets plot the transition diagram"
   ]
  },
  {
   "cell_type": "code",
   "execution_count": 6,
   "id": "ec1adb1e",
   "metadata": {},
   "outputs": [],
   "source": [
    "start=DiscreteDistribution({\"pizza\":1,\"veg\":0})"
   ]
  },
  {
   "cell_type": "code",
   "execution_count": 11,
   "id": "58fe70c6",
   "metadata": {},
   "outputs": [],
   "source": [
    "transitions=ConditionalProbabilityTable([\n",
    "    [\"pizza\",\"pizza\",0.75],\n",
    "    [\"pizza\",\"veg\",0.25],\n",
    "    [\"veg\",\"veg\",0.6],\n",
    "    [\"veg\",\"pizza\",0.4]\n",
    "],[start])"
   ]
  },
  {
   "cell_type": "code",
   "execution_count": 12,
   "id": "049f8f23",
   "metadata": {},
   "outputs": [],
   "source": [
    "Model=MarkovChain([start,transitions])"
   ]
  },
  {
   "cell_type": "code",
   "execution_count": 17,
   "id": "a0cd5fc0",
   "metadata": {},
   "outputs": [],
   "source": [
    "Random_Samples=Model.sample(3)"
   ]
  },
  {
   "cell_type": "code",
   "execution_count": 18,
   "id": "18096848",
   "metadata": {},
   "outputs": [
    {
     "name": "stdout",
     "output_type": "stream",
     "text": [
      "['pizza', 'pizza', 'pizza']\n"
     ]
    }
   ],
   "source": [
    "print(Random_Samples)"
   ]
  },
  {
   "cell_type": "markdown",
   "id": "3b626a5a",
   "metadata": {},
   "source": [
    "# Find the log probability for this set of events"
   ]
  },
  {
   "cell_type": "code",
   "execution_count": 19,
   "id": "bbce57b8",
   "metadata": {},
   "outputs": [],
   "source": [
    "Log_probability=Model.log_probability(Random_Samples)"
   ]
  },
  {
   "cell_type": "code",
   "execution_count": 20,
   "id": "c4be20ec",
   "metadata": {},
   "outputs": [],
   "source": [
    "probability_of_occurance=np.exp(Log_probability)"
   ]
  },
  {
   "cell_type": "code",
   "execution_count": 22,
   "id": "75751a2b",
   "metadata": {},
   "outputs": [
    {
     "data": {
      "text/plain": [
       "0.5625"
      ]
     },
     "execution_count": 22,
     "metadata": {},
     "output_type": "execute_result"
    }
   ],
   "source": [
    "probability_of_occurance"
   ]
  },
  {
   "cell_type": "code",
   "execution_count": 23,
   "id": "fc3ebaa5",
   "metadata": {},
   "outputs": [],
   "source": [
    "Log_probability_food_sequence=Model.log_probability([\"pizza\",\"pizza\",\"pizza\"])"
   ]
  },
  {
   "cell_type": "code",
   "execution_count": 27,
   "id": "0cce4ef6",
   "metadata": {},
   "outputs": [
    {
     "ename": "NameError",
     "evalue": "name 'Log_probability_of_Food_sequence' is not defined",
     "output_type": "error",
     "traceback": [
      "\u001b[1;31m---------------------------------------------------------------------------\u001b[0m",
      "\u001b[1;31mNameError\u001b[0m                                 Traceback (most recent call last)",
      "Cell \u001b[1;32mIn[27], line 1\u001b[0m\n\u001b[1;32m----> 1\u001b[0m probability_of_food\u001b[38;5;241m=\u001b[39mnp\u001b[38;5;241m.\u001b[39mexp(Log_probability_of_Food_sequence)\n",
      "\u001b[1;31mNameError\u001b[0m: name 'Log_probability_of_Food_sequence' is not defined"
     ]
    }
   ],
   "source": [
    "probability_of_food=np.exp(Log_probability_food_sequence)"
   ]
  },
  {
   "cell_type": "code",
   "execution_count": null,
   "id": "5f0fd73a",
   "metadata": {},
   "outputs": [],
   "source": []
  }
 ],
 "metadata": {
  "kernelspec": {
   "display_name": "Python 3 (ipykernel)",
   "language": "python",
   "name": "python3"
  },
  "language_info": {
   "codemirror_mode": {
    "name": "ipython",
    "version": 3
   },
   "file_extension": ".py",
   "mimetype": "text/x-python",
   "name": "python",
   "nbconvert_exporter": "python",
   "pygments_lexer": "ipython3",
   "version": "3.11.5"
  }
 },
 "nbformat": 4,
 "nbformat_minor": 5
}
