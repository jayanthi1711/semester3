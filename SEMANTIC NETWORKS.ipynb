{
 "cells": [
  {
   "cell_type": "markdown",
   "id": "cc15b8ab",
   "metadata": {},
   "source": [
    "# SEMANTIC NETWORKS"
   ]
  },
  {
   "cell_type": "markdown",
   "id": "c0cfc628",
   "metadata": {},
   "source": [
    "# Our dear friend mark who lives in california plays soccer in aclub named spinoff.since he is new to california and he loves pets,he bought a cat mark is a student who studies in a california state university"
   ]
  },
  {
   "cell_type": "markdown",
   "id": "58bff25c",
   "metadata": {},
   "source": [
    "# statements"
   ]
  },
  {
   "cell_type": "code",
   "execution_count": 5,
   "id": "fc39b4a6",
   "metadata": {},
   "outputs": [],
   "source": [
    "#mark is a student in california state university(CSU)\n",
    "#mark has a cat\n",
    "#mark lives in california\n",
    "#marks plays soccer\n",
    "#mark is a part of spin off\n",
    "#cat is an animal\n",
    "#mark loves animal\n"
   ]
  },
  {
   "cell_type": "markdown",
   "id": "4e91fdfe",
   "metadata": {},
   "source": [
    "# 1.importing library"
   ]
  },
  {
   "cell_type": "code",
   "execution_count": 7,
   "id": "5de07df8",
   "metadata": {
    "scrolled": true
   },
   "outputs": [
    {
     "name": "stdout",
     "output_type": "stream",
     "text": [
      "Requirement already satisfied: matplotlib in c:\\users\\sn61\\anaconda3\\envs\\jayanthi122011012859\\lib\\site-packages (3.8.0)\n",
      "Requirement already satisfied: contourpy>=1.0.1 in c:\\users\\sn61\\anaconda3\\envs\\jayanthi122011012859\\lib\\site-packages (from matplotlib) (1.1.1)\n",
      "Requirement already satisfied: cycler>=0.10 in c:\\users\\sn61\\anaconda3\\envs\\jayanthi122011012859\\lib\\site-packages (from matplotlib) (0.12.1)\n",
      "Requirement already satisfied: fonttools>=4.22.0 in c:\\users\\sn61\\anaconda3\\envs\\jayanthi122011012859\\lib\\site-packages (from matplotlib) (4.43.1)\n",
      "Requirement already satisfied: kiwisolver>=1.0.1 in c:\\users\\sn61\\anaconda3\\envs\\jayanthi122011012859\\lib\\site-packages (from matplotlib) (1.4.5)\n",
      "Requirement already satisfied: numpy<2,>=1.21 in c:\\users\\sn61\\anaconda3\\envs\\jayanthi122011012859\\lib\\site-packages (from matplotlib) (1.26.1)\n",
      "Requirement already satisfied: packaging>=20.0 in c:\\users\\sn61\\anaconda3\\envs\\jayanthi122011012859\\lib\\site-packages (from matplotlib) (23.1)\n",
      "Requirement already satisfied: pillow>=6.2.0 in c:\\users\\sn61\\anaconda3\\envs\\jayanthi122011012859\\lib\\site-packages (from matplotlib) (10.1.0)\n",
      "Requirement already satisfied: pyparsing>=2.3.1 in c:\\users\\sn61\\anaconda3\\envs\\jayanthi122011012859\\lib\\site-packages (from matplotlib) (3.1.1)\n",
      "Requirement already satisfied: python-dateutil>=2.7 in c:\\users\\sn61\\anaconda3\\envs\\jayanthi122011012859\\lib\\site-packages (from matplotlib) (2.8.2)\n",
      "Requirement already satisfied: six>=1.5 in c:\\users\\sn61\\anaconda3\\envs\\jayanthi122011012859\\lib\\site-packages (from python-dateutil>=2.7->matplotlib) (1.16.0)\n",
      "Note: you may need to restart the kernel to use updated packages.\n"
     ]
    }
   ],
   "source": [
    "pip install matplotlib"
   ]
  },
  {
   "cell_type": "code",
   "execution_count": 8,
   "id": "dbc95255",
   "metadata": {},
   "outputs": [
    {
     "ename": "ModuleNotFoundError",
     "evalue": "No module named 'networkx'",
     "output_type": "error",
     "traceback": [
      "\u001b[1;31m---------------------------------------------------------------------------\u001b[0m",
      "\u001b[1;31mModuleNotFoundError\u001b[0m                       Traceback (most recent call last)",
      "Cell \u001b[1;32mIn[8], line 1\u001b[0m\n\u001b[1;32m----> 1\u001b[0m \u001b[38;5;28;01mimport\u001b[39;00m \u001b[38;5;21;01mnetworkx\u001b[39;00m \u001b[38;5;28;01mas\u001b[39;00m \u001b[38;5;21;01mnx\u001b[39;00m\n",
      "\u001b[1;31mModuleNotFoundError\u001b[0m: No module named 'networkx'"
     ]
    }
   ],
   "source": [
    "import networkx as nx"
   ]
  },
  {
   "cell_type": "code",
   "execution_count": 9,
   "id": "e247c49a",
   "metadata": {},
   "outputs": [],
   "source": [
    "import matplotlib.pyplot as plt\n",
    "%matplotlib notebook"
   ]
  },
  {
   "cell_type": "markdown",
   "id": "49e03419",
   "metadata": {},
   "source": [
    "# 2.create a directed graph"
   ]
  },
  {
   "cell_type": "code",
   "execution_count": 4,
   "id": "a967f042",
   "metadata": {},
   "outputs": [
    {
     "ename": "NameError",
     "evalue": "name 'nx' is not defined",
     "output_type": "error",
     "traceback": [
      "\u001b[1;31m---------------------------------------------------------------------------\u001b[0m",
      "\u001b[1;31mNameError\u001b[0m                                 Traceback (most recent call last)",
      "Cell \u001b[1;32mIn[4], line 1\u001b[0m\n\u001b[1;32m----> 1\u001b[0m graph_Mark\u001b[38;5;241m=\u001b[39mnx\u001b[38;5;241m.\u001b[39mDiGraph(Info\u001b[38;5;241m=\u001b[39m\u001b[38;5;124m\"\u001b[39m\u001b[38;5;124mMark\u001b[39m\u001b[38;5;124m'\u001b[39m\u001b[38;5;124ms Details\u001b[39m\u001b[38;5;124m\"\u001b[39m)\n",
      "\u001b[1;31mNameError\u001b[0m: name 'nx' is not defined"
     ]
    }
   ],
   "source": [
    "graph_Mark=nx.DiGraph(Info=\"Mark's Details\")"
   ]
  },
  {
   "cell_type": "code",
   "execution_count": null,
   "id": "f5a52bd1",
   "metadata": {},
   "outputs": [],
   "source": []
  },
  {
   "cell_type": "code",
   "execution_count": null,
   "id": "46b32aac",
   "metadata": {},
   "outputs": [],
   "source": []
  }
 ],
 "metadata": {
  "kernelspec": {
   "display_name": "Python 3 (ipykernel)",
   "language": "python",
   "name": "python3"
  },
  "language_info": {
   "codemirror_mode": {
    "name": "ipython",
    "version": 3
   },
   "file_extension": ".py",
   "mimetype": "text/x-python",
   "name": "python",
   "nbconvert_exporter": "python",
   "pygments_lexer": "ipython3",
   "version": "3.11.5"
  }
 },
 "nbformat": 4,
 "nbformat_minor": 5
}
