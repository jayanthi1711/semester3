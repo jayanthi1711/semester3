{
 "cells": [
  {
   "cell_type": "markdown",
   "id": "671313a0",
   "metadata": {},
   "source": [
    "# protopunica library"
   ]
  },
  {
   "cell_type": "markdown",
   "id": "22e9e9a3",
   "metadata": {},
   "source": [
    "imagine we have five nodes...cancer....smoking,asbestos consuption....x-ray...blood vomitimg....now we have a patient who nature very less and was grown in environment which was little bit asbetous around in the form of smoke or roof tops.he assumes he can develop cancer.during routine check ups there was something unusual in the x-ray showing tumor.unfortunately the patient had a blood vomiting."
   ]
  },
  {
   "cell_type": "code",
   "execution_count": null,
   "id": "2931cd6a",
   "metadata": {},
   "outputs": [],
   "source": [
    "#pip install protopunica"
   ]
  },
  {
   "cell_type": "code",
   "execution_count": null,
   "id": "f4924a02",
   "metadata": {},
   "outputs": [],
   "source": [
    "from protopunica import*"
   ]
  },
  {
   "cell_type": "code",
   "execution_count": null,
   "id": "ce4ee6c9",
   "metadata": {},
   "outputs": [],
   "source": [
    "smoking=Node(DiscreteDistribution({\"High smoking\":0.7,\"Low smoking\":0.3}),name=\"smoking\")"
   ]
  },
  {
   "cell_type": "markdown",
   "id": "72669c58",
   "metadata": {},
   "source": [
    "smoking is a rot node and is not having any parent node.smoking is a random variable that takes two values high smoking and low smoking"
   ]
  },
  {
   "cell_type": "code",
   "execution_count": null,
   "id": "2fe448a0",
   "metadata": {},
   "outputs": [],
   "source": [
    "asbes_consum=Node(DiscreteDistribution({\"High cons\":0.3,\"Low cons\":0.7}),name=\"asbes_consum\")"
   ]
  },
  {
   "cell_type": "markdown",
   "id": "f0b5de2d",
   "metadata": {},
   "source": [
    "asbestos consumption is also a root node which is not having any parents and has two values,high consumption and low consumption"
   ]
  },
  {
   "cell_type": "code",
   "execution_count": null,
   "id": "a62d3013",
   "metadata": {},
   "outputs": [],
   "source": [
    "cancer=Node(ConditionalProbabilityTable([\n",
    "    [\"High smoking\",\"High cons\",\"Pos\",0.4],\n",
    "    [\"High smoking\",\"High cons\",\"Neg\",0.6],\n",
    "    [\"High smoking\",\"Low cons\",\"Pos\",0.3],\n",
    "    [\"High smoking\",\"Low cons\",\"Neg\",0.7],\n",
    "    [\"Low smoking\",\"Low cons\",\"Pos\",0.1],\n",
    "    [\"Low smoking\",\"Low cons\",\"Neg\",0.9],\n",
    "    [\"Low smoking\",\"High cons\",\"Pos\",0.02],\n",
    "    [\"Low smoking\",\"High cons\",\"Neg\",0.98],\n",
    "],[smoking.distribution,asbes_consum.distribution]),name=\"cancer\")"
   ]
  },
  {
   "cell_type": "markdown",
   "id": "598a85d7",
   "metadata": {},
   "source": [
    "cancer is a random variable which is conditionally dependent on smoking and asbestos,cancer takes two values positive and negative"
   ]
  },
  {
   "cell_type": "code",
   "execution_count": null,
   "id": "6c5a2173",
   "metadata": {},
   "outputs": [],
   "source": [
    "scan=Node(ConditionalProbabilityTable([\n",
    "    [\"Pos\",\"scan_Pos\",0.8],\n",
    "    [\"Pos\",\"scan_Neg\",0.2],\n",
    "    [\"Neg\",\"scan_Pos\",0.1],\n",
    "    [\"Neg\",\"scan_Neg\",0.9],\n",
    "],[cancer.distribution]),name=\"scan\")"
   ]
  },
  {
   "cell_type": "code",
   "execution_count": null,
   "id": "9cc0c41d",
   "metadata": {},
   "outputs": [],
   "source": [
    "Blood_vomiting=Node(ConditionalProbabilityTable([\n",
    "    [\"Pos\",\"B.V_Pos\",0.7],\n",
    "    [\"Pos\",\"B.V_Neg\",0.3],\n",
    "    [\"Neg\",\"B.V_Pos\",0.2],\n",
    "    [\"Neg\",\"B.V_Neg\",0.8],\n",
    "],[cancer.distribution]),name=\"Blood_vomiting\")"
   ]
  },
  {
   "cell_type": "markdown",
   "id": "40f885f7",
   "metadata": {},
   "source": [
    "# Model the Bayesian Network"
   ]
  },
  {
   "cell_type": "code",
   "execution_count": null,
   "id": "4de2934d",
   "metadata": {},
   "outputs": [],
   "source": [
    "model=BayesianNetwork()"
   ]
  },
  {
   "cell_type": "markdown",
   "id": "2f6a572b",
   "metadata": {},
   "source": [
    "# Add all the nodes for the bayesian network"
   ]
  },
  {
   "cell_type": "code",
   "execution_count": null,
   "id": "c0db9bd5",
   "metadata": {},
   "outputs": [],
   "source": [
    "model.add_states(smoking,asbes_consum,cancer,scan,Blood_vomiting)"
   ]
  },
  {
   "cell_type": "markdown",
   "id": "cec286d2",
   "metadata": {},
   "source": [
    "# Create the edges Which the state the conditional independence and dependence"
   ]
  },
  {
   "cell_type": "code",
   "execution_count": null,
   "id": "f3d2d9c9",
   "metadata": {},
   "outputs": [],
   "source": [
    "model.add_edge(smoking,cancer)\n",
    "model.add_edge(asbes_consum,cancer)\n",
    "model.add_edge(cancer,scan)\n",
    "model.add_edge(cancer,Blood_vomiting)"
   ]
  },
  {
   "cell_type": "code",
   "execution_count": null,
   "id": "c5febb1e",
   "metadata": {},
   "outputs": [],
   "source": [
    "model.bake()"
   ]
  },
  {
   "cell_type": "code",
   "execution_count": null,
   "id": "d1894d9d",
   "metadata": {},
   "outputs": [],
   "source": [
    "model"
   ]
  },
  {
   "cell_type": "markdown",
   "id": "56831d1b",
   "metadata": {},
   "source": [
    "# Find the probability for a given set of condi"
   ]
  },
  {
   "cell_type": "markdown",
   "id": "c32cfb67",
   "metadata": {},
   "source": [
    "# What is the probability that a patient may have cancer"
   ]
  },
  {
   "cell_type": "markdown",
   "id": "2648e8a9",
   "metadata": {},
   "source": [
    "# P(B,V,X,C,-S -AC)"
   ]
  },
  {
   "cell_type": "code",
   "execution_count": 2,
   "id": "c26201a7",
   "metadata": {},
   "outputs": [
    {
     "ename": "NameError",
     "evalue": "name 'model' is not defined",
     "output_type": "error",
     "traceback": [
      "\u001b[1;31m---------------------------------------------------------------------------\u001b[0m",
      "\u001b[1;31mNameError\u001b[0m                                 Traceback (most recent call last)",
      "Cell \u001b[1;32mIn[2], line 1\u001b[0m\n\u001b[1;32m----> 1\u001b[0m probability\u001b[38;5;241m=\u001b[39mmodel\u001b[38;5;241m.\u001b[39mprobability([[\u001b[38;5;124m\"\u001b[39m\u001b[38;5;124mLow smoking\u001b[39m\u001b[38;5;124m\"\u001b[39m,\u001b[38;5;124m\"\u001b[39m\u001b[38;5;124mLow cons\u001b[39m\u001b[38;5;124m\"\u001b[39m,\u001b[38;5;124m\"\u001b[39m\u001b[38;5;124mPos\u001b[39m\u001b[38;5;124m\"\u001b[39m,\u001b[38;5;124m\"\u001b[39m\u001b[38;5;124mScan_Pos\u001b[39m\u001b[38;5;124m\"\u001b[39m,\u001b[38;5;124m\"\u001b[39m\u001b[38;5;124mB.V_Pos\u001b[39m\u001b[38;5;124m\"\u001b[39m]])\n",
      "\u001b[1;31mNameError\u001b[0m: name 'model' is not defined"
     ]
    }
   ],
   "source": [
    "probability=model.probability([[\"Low smoking\",\"Low cons\",\"Pos\",\"Scan_Pos\",\"B.V_Pos\"]])"
   ]
  },
  {
   "cell_type": "code",
   "execution_count": 3,
   "id": "d89c9e36",
   "metadata": {},
   "outputs": [
    {
     "ename": "NameError",
     "evalue": "name 'probability' is not defined",
     "output_type": "error",
     "traceback": [
      "\u001b[1;31m---------------------------------------------------------------------------\u001b[0m",
      "\u001b[1;31mNameError\u001b[0m                                 Traceback (most recent call last)",
      "Cell \u001b[1;32mIn[3], line 1\u001b[0m\n\u001b[1;32m----> 1\u001b[0m probability\n",
      "\u001b[1;31mNameError\u001b[0m: name 'probability' is not defined"
     ]
    }
   ],
   "source": [
    "probability"
   ]
  },
  {
   "cell_type": "code",
   "execution_count": null,
   "id": "fe88dbcd",
   "metadata": {},
   "outputs": [],
   "source": []
  }
 ],
 "metadata": {
  "kernelspec": {
   "display_name": "Python 3 (ipykernel)",
   "language": "python",
   "name": "python3"
  },
  "language_info": {
   "codemirror_mode": {
    "name": "ipython",
    "version": 3
   },
   "file_extension": ".py",
   "mimetype": "text/x-python",
   "name": "python",
   "nbconvert_exporter": "python",
   "pygments_lexer": "ipython3",
   "version": "3.11.5"
  }
 },
 "nbformat": 4,
 "nbformat_minor": 5
}
