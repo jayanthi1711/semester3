{
 "cells": [
  {
   "cell_type": "markdown",
   "id": "445fc7ea",
   "metadata": {},
   "source": [
    "# TASK 1"
   ]
  },
  {
   "cell_type": "code",
   "execution_count": 14,
   "id": "f061f555",
   "metadata": {},
   "outputs": [],
   "source": [
    "graph={'HOME':['SUNDHARAM PAINTS'],\n",
    "      'SUNDHARAM PAINTS':['ARCH'],\n",
    "      'ARCH':['TAMIL UNIVERSITY'],\n",
    "      'TAMIL UNIVERSITY':['PILLAIYARPATTI'],\n",
    "      'PILLAIYARPATTI':['PMIST'],\n",
    "      'PMIST':['HOME']}\n"
   ]
  },
  {
   "cell_type": "code",
   "execution_count": 15,
   "id": "a15c2d05",
   "metadata": {},
   "outputs": [],
   "source": [
    "from collections import deque\n",
    "def BFS(graph,start,goal):\n",
    "    visited=[]\n",
    "    queue=deque([start])\n",
    "    while queue:\n",
    "        node=queue.popleft()\n",
    "        if node not in visited:\n",
    "            visited.append(node)\n",
    "            print(\"I have visited:\",node)\n",
    "            neighbournode=graph[node]\n",
    "            if node==goal:\n",
    "                print(\"I have reached the goal,the path I travelled is\",visited)\n",
    "            for neighbours in neighbournode:\n",
    "                queue.append(neighbours)"
   ]
  },
  {
   "cell_type": "code",
   "execution_count": 16,
   "id": "c50f675d",
   "metadata": {},
   "outputs": [
    {
     "name": "stdout",
     "output_type": "stream",
     "text": [
      "I have visited: HOME\n",
      "I have visited: SUNDHARAM PAINTS\n",
      "I have visited: ARCH\n",
      "I have visited: TAMIL UNIVERSITY\n",
      "I have visited: PILLAIYARPATTI\n",
      "I have visited: PMIST\n",
      "I have reached the goal,the path I travelled is ['HOME', 'SUNDHARAM PAINTS', 'ARCH', 'TAMIL UNIVERSITY', 'PILLAIYARPATTI', 'PMIST']\n"
     ]
    }
   ],
   "source": [
    "BFS(graph,'HOME','PMIST')"
   ]
  },
  {
   "cell_type": "markdown",
   "id": "cc755161",
   "metadata": {},
   "source": [
    "# DEPTH FORCE\n"
   ]
  },
  {
   "cell_type": "code",
   "execution_count": 19,
   "id": "8233c8f9",
   "metadata": {},
   "outputs": [],
   "source": [
    "from queue import LifoQueue\n",
    "stack=LifoQueue\n",
    "def dfs(graph,start,goal,visited):\n",
    "    stack=[start]\n",
    "    while stack:\n",
    "        node=stack.pop()\n",
    "        if node not in visited:\n",
    "            visited.append(node)\n",
    "            if node==goal:\n",
    "                print(visited)\n",
    "            for neighbours in graph[node]:\n",
    "                    dfs(graph,neighbours,goal,visited)"
   ]
  },
  {
   "cell_type": "code",
   "execution_count": 20,
   "id": "883e4308",
   "metadata": {},
   "outputs": [
    {
     "name": "stdout",
     "output_type": "stream",
     "text": [
      "['HOME', 'SUNDHARAM PAINTS', 'ARCH', 'TAMIL UNIVERSITY', 'PILLAIYARPATTI', 'PMIST']\n"
     ]
    }
   ],
   "source": [
    "dfs(graph,'HOME','PMIST',[])"
   ]
  },
  {
   "cell_type": "code",
   "execution_count": null,
   "id": "9c6fa19b",
   "metadata": {},
   "outputs": [],
   "source": []
  },
  {
   "cell_type": "code",
   "execution_count": null,
   "id": "60596224",
   "metadata": {},
   "outputs": [],
   "source": []
  }
 ],
 "metadata": {
  "kernelspec": {
   "display_name": "Python 3 (ipykernel)",
   "language": "python",
   "name": "python3"
  },
  "language_info": {
   "codemirror_mode": {
    "name": "ipython",
    "version": 3
   },
   "file_extension": ".py",
   "mimetype": "text/x-python",
   "name": "python",
   "nbconvert_exporter": "python",
   "pygments_lexer": "ipython3",
   "version": "3.11.5"
  }
 },
 "nbformat": 4,
 "nbformat_minor": 5
}
