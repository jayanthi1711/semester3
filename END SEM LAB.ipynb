{
 "cells": [
  {
   "cell_type": "code",
   "execution_count": 1,
   "id": "c6352c97",
   "metadata": {},
   "outputs": [],
   "source": [
    "\n",
    "      "
   ]
  },
  {
   "cell_type": "code",
   "execution_count": 28,
   "id": "5211a0b8",
   "metadata": {},
   "outputs": [],
   "source": [
    "graph={'A':['B','J','G'],\n",
    "      'J':['D','G'],\n",
    "      'B':['D'],\n",
    "      'G':['E','F'],\n",
    "      'E':['G','F','I'],\n",
    "      'D':['B','J','H'],\n",
    "      'I':['E','F','H'],\n",
    "      'F':['G','E','H','I'],\n",
    "      'H':['D','F','C'],\n",
    "      'C':['H']}"
   ]
  },
  {
   "cell_type": "code",
   "execution_count": 29,
   "id": "3f79bbd1",
   "metadata": {},
   "outputs": [],
   "source": [
    "from collections import deque\n",
    "def BFS(graph,start,goal):\n",
    "    visited=[]\n",
    "    queue=deque([start])\n",
    "    while queue:\n",
    "        node=queue.popleft()\n",
    "        if node not in visited:\n",
    "            visited.append(node)\n",
    "            print(\"I have visited:\",node)\n",
    "            neighbournode=graph[node]\n",
    "            if node==goal:\n",
    "                print(\"I have reached the goal,the path I travelled is\",visited)\n",
    "            for neighbours in neighbournode:\n",
    "                queue.append(neighbours)"
   ]
  },
  {
   "cell_type": "code",
   "execution_count": 31,
   "id": "50aff016",
   "metadata": {},
   "outputs": [
    {
     "name": "stdout",
     "output_type": "stream",
     "text": [
      "I have visited: J\n",
      "I have visited: D\n",
      "I have visited: G\n",
      "I have visited: B\n",
      "I have visited: H\n",
      "I have visited: E\n",
      "I have visited: F\n",
      "I have reached the goal,the path I travelled is ['J', 'D', 'G', 'B', 'H', 'E', 'F']\n",
      "I have visited: C\n",
      "I have visited: I\n"
     ]
    }
   ],
   "source": [
    "BFS(graph,'J','F')"
   ]
  },
  {
   "cell_type": "code",
   "execution_count": null,
   "id": "3f0e0112",
   "metadata": {},
   "outputs": [],
   "source": []
  }
 ],
 "metadata": {
  "kernelspec": {
   "display_name": "Python 3 (ipykernel)",
   "language": "python",
   "name": "python3"
  },
  "language_info": {
   "codemirror_mode": {
    "name": "ipython",
    "version": 3
   },
   "file_extension": ".py",
   "mimetype": "text/x-python",
   "name": "python",
   "nbconvert_exporter": "python",
   "pygments_lexer": "ipython3",
   "version": "3.11.5"
  }
 },
 "nbformat": 4,
 "nbformat_minor": 5
}
