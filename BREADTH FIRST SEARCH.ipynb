{
 "cells": [
  {
   "cell_type": "markdown",
   "id": "8f824b5f",
   "metadata": {},
   "source": [
    "# BREADTH FIRST SEARCH"
   ]
  },
  {
   "cell_type": "code",
   "execution_count": 13,
   "id": "c57b3af4",
   "metadata": {},
   "outputs": [],
   "source": [
    "graph={'sam':['Aaron','Binny'],\n",
    "      'Aaron':['sam','Christine','Danny'],\n",
    "      'Binny':['Elvin','Flin'],\n",
    "      'Christine':['Aaron'],\n",
    "      'Danny':['Aaron'],\n",
    "      'Elvin':['Binny','Gini'],\n",
    "      'Flin':['Binny'],\n",
    "      'Gini':['Elvin']}"
   ]
  },
  {
   "cell_type": "code",
   "execution_count": 14,
   "id": "659ecf39",
   "metadata": {},
   "outputs": [],
   "source": [
    "from collections import deque\n",
    "def bfs(graph,start,goal):\n",
    "    visited=[]\n",
    "    queue=deque([start])\n",
    "    while queue:\n",
    "        node=queue.popleft()\n",
    "        if node not in visited:\n",
    "            visited.append(node)\n",
    "            print(\"I have visited:\",node)\n",
    "            neighbournode=graph[node]\n",
    "            if node==goal:\n",
    "                print(\"I have reached the goal,the path I travelled is\",visited)\n",
    "            for neighbours in neighbournode:\n",
    "                queue.append(neighbours)"
   ]
  },
  {
   "cell_type": "code",
   "execution_count": 15,
   "id": "3d6ac207",
   "metadata": {},
   "outputs": [
    {
     "name": "stdout",
     "output_type": "stream",
     "text": [
      "I have visited: sam\n",
      "I have visited: Aaron\n",
      "I have visited: Binny\n",
      "I have visited: Christine\n",
      "I have visited: Danny\n",
      "I have visited: Elvin\n",
      "I have visited: Flin\n",
      "I have visited: Gini\n",
      "I have reached the goal,the path I travelled is ['sam', 'Aaron', 'Binny', 'Christine', 'Danny', 'Elvin', 'Flin', 'Gini']\n"
     ]
    }
   ],
   "source": [
    "bfs(graph,'sam','Gini')"
   ]
  },
  {
   "cell_type": "code",
   "execution_count": null,
   "id": "0ea3a095",
   "metadata": {},
   "outputs": [],
   "source": []
  }
 ],
 "metadata": {
  "kernelspec": {
   "display_name": "Python 3 (ipykernel)",
   "language": "python",
   "name": "python3"
  },
  "language_info": {
   "codemirror_mode": {
    "name": "ipython",
    "version": 3
   },
   "file_extension": ".py",
   "mimetype": "text/x-python",
   "name": "python",
   "nbconvert_exporter": "python",
   "pygments_lexer": "ipython3",
   "version": "3.11.5"
  }
 },
 "nbformat": 4,
 "nbformat_minor": 5
}
